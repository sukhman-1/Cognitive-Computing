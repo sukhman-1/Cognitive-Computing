{
 "cells": [
  {
   "cell_type": "markdown",
   "metadata": {},
   "source": [
    "Q1"
   ]
  },
  {
   "cell_type": "code",
   "execution_count": 1,
   "metadata": {},
   "outputs": [
    {
     "name": "stdout",
     "output_type": "stream",
     "text": [
      "[10, 20, 30, 40, 50, 60, 70, 80, 200, 300]\n",
      "[20, 40, 50, 60, 70, 80, 200, 300]\n",
      "[20, 40, 50, 60, 70, 80, 200, 300]\n",
      "[300, 200, 80, 70, 60, 50, 40, 20]\n"
     ]
    }
   ],
   "source": [
    "L = [10, 20, 30, 40, 50, 60, 70, 80]\n",
    "L.append(200)\n",
    "L.append(300)\n",
    "print(L)\n",
    "\n",
    "L.remove(10)\n",
    "L.remove(30)\n",
    "print(L)\n",
    "\n",
    "L.sort()\n",
    "print(L)\n",
    "\n",
    "L.sort(reverse=True)\n",
    "print(L)"
   ]
  },
  {
   "cell_type": "markdown",
   "metadata": {},
   "source": [
    "Q2"
   ]
  },
  {
   "cell_type": "code",
   "execution_count": 3,
   "metadata": {},
   "outputs": [
    {
     "name": "stdout",
     "output_type": "stream",
     "text": [
      "92\n",
      "5\n",
      "45\n",
      "2\n",
      "[45, 58, 92, 89, 45.4, 76, 89.5, 45]\n",
      "2\n"
     ]
    }
   ],
   "source": [
    "scores = (45, 89.5, 76, 45.4, 89, 92, 58, 45)\n",
    "highest = max(scores)\n",
    "print(highest)\n",
    "print(scores.index(highest))\n",
    "\n",
    "lowest = min(scores)\n",
    "print(lowest)\n",
    "print(scores.count(lowest))\n",
    "\n",
    "reversed_scores = list(scores[::-1])\n",
    "print(reversed_scores)\n",
    "\n",
    "check = 76\n",
    "if check in scores:\n",
    "    print(scores.index(check))\n",
    "else:\n",
    "    print(\"76 is not present\")\n"
   ]
  },
  {
   "cell_type": "markdown",
   "metadata": {},
   "source": [
    "Q3"
   ]
  },
  {
   "cell_type": "code",
   "execution_count": 2,
   "metadata": {},
   "outputs": [
    {
     "name": "stdout",
     "output_type": "stream",
     "text": [
      "[165, 281, 409, 115, 209, 397, 199, 145, 775, 593, 301, 683, 479, 389, 233, 697, 583, 475, 645, 273, 583, 891, 499, 165, 659, 475, 863, 755, 659, 427, 595, 279, 689, 147, 561, 763, 305, 157, 503, 459, 119, 295, 557, 291, 639, 893]\n",
      "[558, 212, 898, 236, 418, 824, 874, 266, 742, 858, 202, 104, 454, 510, 286, 198, 372, 732, 118, 520, 744, 592, 588, 650, 524, 200, 502, 832, 652, 850, 456, 246, 560, 610, 898, 592, 546, 322, 502, 706, 712, 650, 794, 118, 252, 276, 892, 440, 822, 194, 510, 370, 242, 320]\n",
      "[281, 409, 397, 199, 593, 683, 479, 389, 233, 499, 659, 863, 659, 157, 503, 557]\n"
     ]
    }
   ],
   "source": [
    "import random\n",
    "\n",
    "nums = [random.randint(100, 900) for _ in range(100)]\n",
    "odds = [i for i in nums if i % 2 != 0]\n",
    "print(odds)\n",
    "\n",
    "evens = [i for i in nums if i % 2 == 0]\n",
    "print(evens)\n",
    "\n",
    "def is_prime(n):\n",
    "    if n < 2: return False\n",
    "    for i in range(2, int(n ** 0.5) + 1):\n",
    "        if n % i == 0: return False\n",
    "    return True\n",
    "\n",
    "primes = [i for i in nums if is_prime(i)]\n",
    "print(primes)\n"
   ]
  },
  {
   "cell_type": "markdown",
   "metadata": {},
   "source": [
    "Q4"
   ]
  },
  {
   "cell_type": "code",
   "execution_count": null,
   "metadata": {},
   "outputs": [
    {
     "name": "stdout",
     "output_type": "stream",
     "text": [
      "{34, 45, 78, 23, 56, 90}\n",
      "{90, 78}\n",
      "{34, 45, 23, 56}\n",
      "False\n",
      "False\n"
     ]
    }
   ],
   "source": [
    "A = {34, 56, 78, 90}\n",
    "B = {78, 45, 90, 23}\n",
    "print(A | B)\n",
    "\n",
    "print(A & B)\n",
    "\n",
    "print(A ^ B)\n",
    "\n",
    "print(A.issubset(B))\n",
    "print(B.issuperset(A))\n",
    "\n",
    "X = int(input())\n",
    "if X in A:\n",
    "    A.remove(X)\n",
    "    print(A)\n",
    "else:\n",
    "    print(\"Not present\")\n"
   ]
  },
  {
   "cell_type": "markdown",
   "metadata": {},
   "source": [
    "Q5"
   ]
  },
  {
   "cell_type": "code",
   "execution_count": 4,
   "metadata": {},
   "outputs": [
    {
     "name": "stdout",
     "output_type": "stream",
     "text": [
      "{'state': 'Punjab', 'pincode': 147001, 'location': 'Patiala'}\n"
     ]
    }
   ],
   "source": [
    "d = {\n",
    "    \"city\": \"Patiala\",\n",
    "    \"state\": \"Punjab\",\n",
    "    \"pincode\": 147001\n",
    "}\n",
    "\n",
    "d[\"location\"] = d.pop(\"city\")\n",
    "print(d)\n"
   ]
  }
 ],
 "metadata": {
  "kernelspec": {
   "display_name": "Python 3",
   "language": "python",
   "name": "python3"
  },
  "language_info": {
   "codemirror_mode": {
    "name": "ipython",
    "version": 3
   },
   "file_extension": ".py",
   "mimetype": "text/x-python",
   "name": "python",
   "nbconvert_exporter": "python",
   "pygments_lexer": "ipython3",
   "version": "3.13.1"
  }
 },
 "nbformat": 4,
 "nbformat_minor": 2
}
