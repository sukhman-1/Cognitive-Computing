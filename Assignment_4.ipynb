{
 "cells": [
  {
   "cell_type": "markdown",
   "metadata": {
    "id": "JCG-kecfJllM"
   },
   "source": [
    "**Lab Assignment 4**"
   ]
  },
  {
   "cell_type": "markdown",
   "metadata": {
    "id": "n3dqrAtHJqm5"
   },
   "source": [
    "Question 1"
   ]
  },
  {
   "cell_type": "code",
   "execution_count": 2,
   "metadata": {
    "colab": {
     "base_uri": "https://localhost:8080/"
    },
    "executionInfo": {
     "elapsed": 18,
     "status": "ok",
     "timestamp": 1743155403375,
     "user": {
      "displayName": "NAMAN KUMAR",
      "userId": "00794360389834857279"
     },
     "user_tz": -330
    },
    "id": "1ws6iZTnJkAu",
    "outputId": "f1f915cc-d9ef-47c8-e96c-3a2154fae146"
   },
   "outputs": [
    {
     "ename": "ModuleNotFoundError",
     "evalue": "No module named 'numpy'",
     "output_type": "error",
     "traceback": [
      "\u001b[0;31m---------------------------------------------------------------------------\u001b[0m",
      "\u001b[0;31mModuleNotFoundError\u001b[0m                       Traceback (most recent call last)",
      "Cell \u001b[0;32mIn[2], line 1\u001b[0m\n\u001b[0;32m----> 1\u001b[0m \u001b[38;5;28;01mimport\u001b[39;00m\u001b[38;5;250m \u001b[39m\u001b[38;5;21;01mnumpy\u001b[39;00m\u001b[38;5;250m \u001b[39m\u001b[38;5;28;01mas\u001b[39;00m\u001b[38;5;250m \u001b[39m\u001b[38;5;21;01mnp\u001b[39;00m\n\u001b[1;32m      2\u001b[0m arr\u001b[38;5;241m=\u001b[39mnp\u001b[38;5;241m.\u001b[39marray([\u001b[38;5;241m1\u001b[39m,\u001b[38;5;241m2\u001b[39m,\u001b[38;5;241m3\u001b[39m,\u001b[38;5;241m4\u001b[39m,\u001b[38;5;241m5\u001b[39m])\n\u001b[1;32m      3\u001b[0m addition\u001b[38;5;241m=\u001b[39marr\u001b[38;5;241m+\u001b[39m\u001b[38;5;241m2\u001b[39m\n",
      "\u001b[0;31mModuleNotFoundError\u001b[0m: No module named 'numpy'"
     ]
    }
   ],
   "source": [
    "import numpy as np\n",
    "arr=np.array([1,2,3,4,5])\n",
    "addition=arr+2\n",
    "multiplication=arr*3\n",
    "division=arr/2\n",
    "print(addition)\n",
    "print(multiplication)\n",
    "print(division)"
   ]
  },
  {
   "cell_type": "markdown",
   "metadata": {
    "id": "jhXeMDgfJ70X"
   },
   "source": [
    "Question 2"
   ]
  },
  {
   "cell_type": "code",
   "execution_count": 4,
   "metadata": {
    "colab": {
     "base_uri": "https://localhost:8080/"
    },
    "executionInfo": {
     "elapsed": 20,
     "status": "ok",
     "timestamp": 1743155443022,
     "user": {
      "displayName": "NAMAN KUMAR",
      "userId": "00794360389834857279"
     },
     "user_tz": -330
    },
    "id": "QJhQDVZIJ-HR",
    "outputId": "2a8ed572-c3c3-4164-8cd7-a262b0e26c6f"
   },
   "outputs": [
    {
     "name": "stdout",
     "output_type": "stream",
     "text": [
      "[5 4 6 3 2 1]\n",
      "1\n",
      "(array([0, 5, 7, 8, 9]),)\n",
      "1\n",
      "(array([0, 1, 2]),)\n"
     ]
    }
   ],
   "source": [
    "arr=np.array([1,2,3,6,4,5])\n",
    "reversed_arr=arr[::-1]\n",
    "x=np.array([1,2,3,4,5,1,2,1,1,1])\n",
    "y=np.array([1,1,1,2,3,4,2,4,3,3])\n",
    "most_frequent_x=np.bincount(x).argmax()\n",
    "indices_x=np.where(x==most_frequent_x)\n",
    "most_frequent_y=np.bincount(y).argmax()\n",
    "indices_y=np.where(y==most_frequent_y)\n",
    "print(reversed_arr)\n",
    "print(most_frequent_x)\n",
    "print(indices_x)\n",
    "print(most_frequent_y)\n",
    "print(indices_y)"
   ]
  },
  {
   "cell_type": "markdown",
   "metadata": {
    "id": "JCwyQUDUKgF2"
   },
   "source": [
    "Question 3"
   ]
  },
  {
   "cell_type": "code",
   "execution_count": 6,
   "metadata": {
    "colab": {
     "base_uri": "https://localhost:8080/"
    },
    "executionInfo": {
     "elapsed": 15,
     "status": "ok",
     "timestamp": 1743155526238,
     "user": {
      "displayName": "NAMAN KUMAR",
      "userId": "00794360389834857279"
     },
     "user_tz": -330
    },
    "id": "gtqfB50fKiEk",
    "outputId": "33767719-ab47-4ce4-c65b-8bd642ab3160"
   },
   "outputs": [
    {
     "name": "stdout",
     "output_type": "stream",
     "text": [
      "20\n",
      "70\n"
     ]
    }
   ],
   "source": [
    "arr=np.array([[10,20,30],[40,50,60],[70,80,90]])\n",
    "element_1_2=arr[0,1]\n",
    "element_3_1=arr[2,0]\n",
    "print(element_1_2)\n",
    "print(element_3_1)"
   ]
  },
  {
   "cell_type": "markdown",
   "metadata": {
    "id": "IXazYvbPKo3Q"
   },
   "source": [
    "Question 4"
   ]
  },
  {
   "cell_type": "code",
   "execution_count": 7,
   "metadata": {
    "colab": {
     "base_uri": "https://localhost:8080/"
    },
    "executionInfo": {
     "elapsed": 12,
     "status": "ok",
     "timestamp": 1743155629184,
     "user": {
      "displayName": "NAMAN KUMAR",
      "userId": "00794360389834857279"
     },
     "user_tz": -330
    },
    "id": "s7wfjaWEKoFM",
    "outputId": "ee94c791-4710-4766-d7a8-886c1c941f54"
   },
   "outputs": [
    {
     "name": "stdout",
     "output_type": "stream",
     "text": [
      "[ 10.    13.75  17.5   21.25  25.    28.75  32.5   36.25  40.    43.75\n",
      "  47.5   51.25  55.    58.75  62.5   66.25  70.    73.75  77.5   81.25\n",
      "  85.    88.75  92.5   96.25 100.  ]\n",
      "1\n",
      "(25,)\n",
      "25\n",
      "float64\n",
      "200\n",
      "[[ 10.  ]\n",
      " [ 13.75]\n",
      " [ 17.5 ]\n",
      " [ 21.25]\n",
      " [ 25.  ]\n",
      " [ 28.75]\n",
      " [ 32.5 ]\n",
      " [ 36.25]\n",
      " [ 40.  ]\n",
      " [ 43.75]\n",
      " [ 47.5 ]\n",
      " [ 51.25]\n",
      " [ 55.  ]\n",
      " [ 58.75]\n",
      " [ 62.5 ]\n",
      " [ 66.25]\n",
      " [ 70.  ]\n",
      " [ 73.75]\n",
      " [ 77.5 ]\n",
      " [ 81.25]\n",
      " [ 85.  ]\n",
      " [ 88.75]\n",
      " [ 92.5 ]\n",
      " [ 96.25]\n",
      " [100.  ]]\n",
      "True\n"
     ]
    }
   ],
   "source": [
    "naman=np.linspace(10,100,25)\n",
    "dimensions=naman.ndim\n",
    "shape=naman.shape\n",
    "total_elements=naman.size\n",
    "data_type=naman.dtype\n",
    "total_bytes=naman.nbytes\n",
    "reshaped_naman=naman.reshape(-1,1)\n",
    "transpose_possible=naman.T.ndim==naman.ndim\n",
    "print(naman)\n",
    "print(dimensions)\n",
    "print(shape)\n",
    "print(total_elements)\n",
    "print(data_type)\n",
    "print(total_bytes)\n",
    "print(reshaped_naman)\n",
    "print(transpose_possible)"
   ]
  },
  {
   "cell_type": "markdown",
   "metadata": {
    "id": "bFLZaZ86LHks"
   },
   "source": [
    "Question 5"
   ]
  },
  {
   "cell_type": "code",
   "execution_count": 4,
   "metadata": {
    "colab": {
     "base_uri": "https://localhost:8080/"
    },
    "executionInfo": {
     "elapsed": 22,
     "status": "ok",
     "timestamp": 1743155745484,
     "user": {
      "displayName": "NAMAN KUMAR",
      "userId": "00794360389834857279"
     },
     "user_tz": -330
    },
    "id": "ZQgisePrLKQO",
    "outputId": "07f46b76-e902-489a-a4bd-00e8d623acd4"
   },
   "outputs": [
    {
     "ename": "NameError",
     "evalue": "name 'np' is not defined",
     "output_type": "error",
     "traceback": [
      "\u001b[0;31m---------------------------------------------------------------------------\u001b[0m",
      "\u001b[0;31mNameError\u001b[0m                                 Traceback (most recent call last)",
      "Cell \u001b[0;32mIn[4], line 1\u001b[0m\n\u001b[0;32m----> 1\u001b[0m ucs420_naman\u001b[38;5;241m=\u001b[39m\u001b[43mnp\u001b[49m\u001b[38;5;241m.\u001b[39marray([[\u001b[38;5;241m10\u001b[39m,\u001b[38;5;241m20\u001b[39m,\u001b[38;5;241m30\u001b[39m,\u001b[38;5;241m40\u001b[39m],[\u001b[38;5;241m50\u001b[39m,\u001b[38;5;241m60\u001b[39m,\u001b[38;5;241m70\u001b[39m,\u001b[38;5;241m80\u001b[39m],[\u001b[38;5;241m90\u001b[39m,\u001b[38;5;241m15\u001b[39m,\u001b[38;5;241m20\u001b[39m,\u001b[38;5;241m35\u001b[39m]])\n\u001b[1;32m      2\u001b[0m mean\u001b[38;5;241m=\u001b[39mnp\u001b[38;5;241m.\u001b[39mmean(ucs420_naman)\n\u001b[1;32m      3\u001b[0m median\u001b[38;5;241m=\u001b[39mnp\u001b[38;5;241m.\u001b[39mmedian(ucs420_naman)\n",
      "\u001b[0;31mNameError\u001b[0m: name 'np' is not defined"
     ]
    }
   ],
   "source": [
    "ucs420_naman=np.array([[10,20,30,40],[50,60,70,80],[90,15,20,35]])\n",
    "mean=np.mean(ucs420_naman)\n",
    "median=np.median(ucs420_naman)\n",
    "max_value=np.max(ucs420_naman)\n",
    "min_value=np.min(ucs420_naman)\n",
    "unique_elements=np.unique(ucs420_naman)\n",
    "reshaped_ucs420_naman=ucs420_naman.reshape(4,3)\n",
    "resized_ucs420_naman=np.resize(ucs420_naman,(2,3))\n",
    "print(ucs420_naman)\n",
    "print(mean)\n",
    "print(median)\n",
    "print(max_value)\n",
    "print(min_value)\n",
    "print(unique_elements)\n",
    "print(reshaped_ucs420_naman)\n",
    "print(resized_ucs420_naman)"
   ]
  }
 ],
 "metadata": {
  "colab": {
   "authorship_tag": "ABX9TyOmkYHV4JY2GH77irkaelDm",
   "provenance": []
  },
  "kernelspec": {
   "display_name": "Python 3",
   "name": "python3"
  },
  "language_info": {
   "codemirror_mode": {
    "name": "ipython",
    "version": 3
   },
   "file_extension": ".py",
   "mimetype": "text/x-python",
   "name": "python",
   "nbconvert_exporter": "python",
   "pygments_lexer": "ipython3",
   "version": "3.9.6"
  }
 },
 "nbformat": 4,
 "nbformat_minor": 0
}
